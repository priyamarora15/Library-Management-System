{
 "cells": [
  {
   "cell_type": "code",
   "execution_count": 1,
   "id": "b7c28a38-8ab9-4b71-b1d5-e48b79c8a3db",
   "metadata": {},
   "outputs": [
    {
     "name": "stdout",
     "output_type": "stream",
     "text": [
      "Welcome to Library Management System\n",
      "Press 1: for Student Registration\n",
      "Press 2: for Book Register\n",
      "Press 3: for Book Issue\n",
      "Press 4: for Book Return\n",
      "Press 5: for View Available Books\n"
     ]
    },
    {
     "name": "stdin",
     "output_type": "stream",
     "text": [
      "Enter Your Choice:  5\n"
     ]
    },
    {
     "name": "stdout",
     "output_type": "stream",
     "text": [
      "\n",
      " Available Books: \n",
      "1.Machine Learning(Serial No: 1001)\n",
      "2.Artificial Intelligence(Serial No: 1002)\n",
      "3.Deep Learning(Serial No: 1003)\n",
      "4.Linear Variable(Serial No: 1004)\n"
     ]
    },
    {
     "name": "stdin",
     "output_type": "stream",
     "text": [
      "\n",
      "Do you want to go back to Main Menu? (y/n):  n\n"
     ]
    },
    {
     "name": "stdout",
     "output_type": "stream",
     "text": [
      "Thank you for using Library Management System. Goodbye! \n"
     ]
    }
   ],
   "source": [
    "import pymongo as py\n",
    "from datetime import datetime\n",
    "client=py.MongoClient(\"mongodb://localhost:27017/\")\n",
    "db=client[\"library\"]\n",
    "\n",
    "def student_registration():\n",
    "    name=input(\"Enter Student Name :\")\n",
    "    roll = int(input(\"Enter Roll No.:\" ))\n",
    "    course= input(\"Enter Course Name: \")\n",
    "    year = input(\"Enter Year:\")\n",
    "\n",
    "    student_data = {\n",
    "        \"name\": name,\n",
    "        \"roll_no.\":roll,\n",
    "        \"course\": course,\n",
    "        \"year\": year\n",
    "    }\n",
    "    db['students'].insert_one(student_data)\n",
    "    print(\"Student registered successfully!\\n\")\n",
    "\n",
    "def book_register():\n",
    "    title=input(\"Enter Book Title: \")\n",
    "    sr_no=input(\"Enter Serial No.: \")\n",
    "    price=float(input(\"Enter Price: \"))\n",
    "    publisher=input(\"Enter Publisher Name: \")\n",
    "\n",
    "    book_data = {\n",
    "        \"title\":title,\n",
    "        \"sr_no\": sr_no,\n",
    "        \"price\": price,\n",
    "        \"publisher\": publisher\n",
    "    }\n",
    "    db['books'].insert_one(book_data)\n",
    "    print(\"Book registered successfully!\\n\")\n",
    "\n",
    "def issue_book():\n",
    "    sr_no=input(\"Enter Book Serial No: \")\n",
    "    name=input(\"Enter Student Name: \")\n",
    "\n",
    "    book=db['books'].find_one({\"sr_no\": sr_no})\n",
    "    student=db['students'].find_one({\"name\": name})\n",
    "\n",
    "    if book and student:\n",
    "        issue_data = {\n",
    "            \"sr_no\": sr_no,\n",
    "            \"name\": name,\n",
    "            \"issue_date\": datetime.now()\n",
    "        }\n",
    "        db['issued_books'].insert_one(issue_data)\n",
    "        print(\"Book issued successfully!\\n\")\n",
    "    else:\n",
    "        print(\"Book or Student not found!\\n\")\n",
    "\n",
    "def return_book():\n",
    "    sr_no=input(\"Enter Book Serial No. to return: \")\n",
    "    name=input(\"Enter Student Name :\")\n",
    "\n",
    "    result=db['issued_books'].delete_one({\"sr_no\": sr_no, \"name\": name})\n",
    "    if result.deleted_count > 0:\n",
    "        print(\"Book returned successfully!\\n\")\n",
    "    else:\n",
    "        print(\"No matching issued book found!\\n\")\n",
    "\n",
    "def show_available_books():\n",
    "    print(\"\\n Available Books: \")\n",
    "    issued_books = db['issued_books'].find()\n",
    "    issued_sr_nos = []\n",
    "    for book in issued_books:\n",
    "        issued_sr_nos.append(book['sr_no'])\n",
    "    available_books = db['books'].find({\"sr_no\": {\"$nin\":issued_sr_nos}})\n",
    "    count = 0\n",
    "    for book in available_books:\n",
    "        count = count+1\n",
    "        print(f\"{count}.{book['title']}(Serial No: {book['sr_no']})\")\n",
    "\n",
    "def main():\n",
    "    while True:\n",
    "        print(\"Welcome to Library Management System\")\n",
    "        print(\"Press 1: for Student Registration\")\n",
    "        print(\"Press 2: for Book Register\")\n",
    "        print(\"Press 3: for Book Issue\")\n",
    "        print(\"Press 4: for Book Return\")\n",
    "        print(\"Press 5: for View Available Books\")\n",
    "        choice=input(\"Enter Your Choice: \")\n",
    "    \n",
    "        if choice.isdigit():\n",
    "            ch = int(choice)\n",
    "            match ch:\n",
    "                case 1:\n",
    "                    student_registration()\n",
    "                case 2:\n",
    "                    book_register()\n",
    "                case 3:\n",
    "                    issue_book()\n",
    "                case 4:\n",
    "                    return_book()\n",
    "                case 5:\n",
    "                    show_available_books()\n",
    "                case _:\n",
    "                    print(\"Wrong Choice\")\n",
    "        else:\n",
    "            print(\"Please enter a digit\")\n",
    "        again = input(\"\\nDo you want to go back to Main Menu? (y/n): \").strip().lower()\n",
    "        if again != 'y':\n",
    "            print(\"Thank you for using Library Management System. Goodbye! \")\n",
    "            break\n",
    "if __name__ == \"__main__\":\n",
    "    main()"
   ]
  },
  {
   "cell_type": "code",
   "execution_count": null,
   "id": "ae6f6090-fff3-4dd2-af35-7bda2d43ecfa",
   "metadata": {},
   "outputs": [],
   "source": []
  }
 ],
 "metadata": {
  "kernelspec": {
   "display_name": "Python [conda env:base] *",
   "language": "python",
   "name": "conda-base-py"
  },
  "language_info": {
   "codemirror_mode": {
    "name": "ipython",
    "version": 3
   },
   "file_extension": ".py",
   "mimetype": "text/x-python",
   "name": "python",
   "nbconvert_exporter": "python",
   "pygments_lexer": "ipython3",
   "version": "3.12.7"
  }
 },
 "nbformat": 4,
 "nbformat_minor": 5
}
